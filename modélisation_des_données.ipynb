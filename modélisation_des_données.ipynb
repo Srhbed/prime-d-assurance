{
 "cells": [
  {
   "cell_type": "code",
   "execution_count": 752,
   "metadata": {},
   "outputs": [],
   "source": [
    "import sklearn \n",
    "# import des librairies dont nous aurons besoin\n",
    "import pandas as pd\n",
    "import missingno as msno\n",
    "import seaborn as sns\n",
    "import numpy as np\n",
    "import matplotlib.pyplot as plt\n",
    "import scipy\n",
    "from sklearn.pipeline import make_pipeline\n",
    "from sklearn.datasets import load_iris\n",
    "from sklearn.model_selection import train_test_split ,cross_val_score,KFold,GridSearchCV,cross_validate\n",
    "from sklearn.metrics import accuracy_score\n",
    "\n",
    "from sklearn.compose import ColumnTransformer\n",
    "from sklearn.pipeline import Pipeline\n",
    "from sklearn.preprocessing import RobustScaler\n",
    "from sklearn.preprocessing import PolynomialFeatures, StandardScaler, OneHotEncoder, RobustScaler\n",
    "from sklearn.linear_model import ElasticNet, Lasso, LinearRegression, Ridge\n",
    "\n",
    "# chargement et affichage des données\n"
   ]
  },
  {
   "cell_type": "code",
   "execution_count": 753,
   "metadata": {},
   "outputs": [
    {
     "name": "stdout",
     "output_type": "stream",
     "text": [
      "      age     sex     bmi  children smoker     region      charges\n",
      "0      19  female  27.900         0    yes  southwest  16884.92400\n",
      "1      18    male  33.770         1     no  southeast   1725.55230\n",
      "2      28    male  33.000         3     no  southeast   4449.46200\n",
      "3      33    male  22.705         0     no  northwest  21984.47061\n",
      "4      32    male  28.880         0     no  northwest   3866.85520\n",
      "...   ...     ...     ...       ...    ...        ...          ...\n",
      "1333   50    male  30.970         3     no  northwest  10600.54830\n",
      "1334   18  female  31.920         0     no  northeast   2205.98080\n",
      "1335   18  female  36.850         0     no  southeast   1629.83350\n",
      "1336   21  female  25.800         0     no  southwest   2007.94500\n",
      "1337   61  female  29.070         0    yes  northwest  29141.36030\n",
      "\n",
      "[1338 rows x 7 columns]\n"
     ]
    }
   ],
   "source": [
    "\n",
    "# chargement et affichage des données\n",
    "data = pd.read_csv('dataset_assurance.csv')\n",
    "print(data)"
   ]
  },
  {
   "attachments": {},
   "cell_type": "markdown",
   "metadata": {},
   "source": [
    "### Séparer ma target  de mon dataframe\n"
   ]
  },
  {
   "cell_type": "code",
   "execution_count": 754,
   "metadata": {},
   "outputs": [
    {
     "data": {
      "text/html": [
       "<div>\n",
       "<style scoped>\n",
       "    .dataframe tbody tr th:only-of-type {\n",
       "        vertical-align: middle;\n",
       "    }\n",
       "\n",
       "    .dataframe tbody tr th {\n",
       "        vertical-align: top;\n",
       "    }\n",
       "\n",
       "    .dataframe thead th {\n",
       "        text-align: right;\n",
       "    }\n",
       "</style>\n",
       "<table border=\"1\" class=\"dataframe\">\n",
       "  <thead>\n",
       "    <tr style=\"text-align: right;\">\n",
       "      <th></th>\n",
       "      <th>charges</th>\n",
       "    </tr>\n",
       "  </thead>\n",
       "  <tbody>\n",
       "    <tr>\n",
       "      <th>0</th>\n",
       "      <td>16884.92400</td>\n",
       "    </tr>\n",
       "    <tr>\n",
       "      <th>1</th>\n",
       "      <td>1725.55230</td>\n",
       "    </tr>\n",
       "    <tr>\n",
       "      <th>2</th>\n",
       "      <td>4449.46200</td>\n",
       "    </tr>\n",
       "    <tr>\n",
       "      <th>3</th>\n",
       "      <td>21984.47061</td>\n",
       "    </tr>\n",
       "    <tr>\n",
       "      <th>4</th>\n",
       "      <td>3866.85520</td>\n",
       "    </tr>\n",
       "    <tr>\n",
       "      <th>...</th>\n",
       "      <td>...</td>\n",
       "    </tr>\n",
       "    <tr>\n",
       "      <th>1333</th>\n",
       "      <td>10600.54830</td>\n",
       "    </tr>\n",
       "    <tr>\n",
       "      <th>1334</th>\n",
       "      <td>2205.98080</td>\n",
       "    </tr>\n",
       "    <tr>\n",
       "      <th>1335</th>\n",
       "      <td>1629.83350</td>\n",
       "    </tr>\n",
       "    <tr>\n",
       "      <th>1336</th>\n",
       "      <td>2007.94500</td>\n",
       "    </tr>\n",
       "    <tr>\n",
       "      <th>1337</th>\n",
       "      <td>29141.36030</td>\n",
       "    </tr>\n",
       "  </tbody>\n",
       "</table>\n",
       "<p>1338 rows × 1 columns</p>\n",
       "</div>"
      ],
      "text/plain": [
       "          charges\n",
       "0     16884.92400\n",
       "1      1725.55230\n",
       "2      4449.46200\n",
       "3     21984.47061\n",
       "4      3866.85520\n",
       "...           ...\n",
       "1333  10600.54830\n",
       "1334   2205.98080\n",
       "1335   1629.83350\n",
       "1336   2007.94500\n",
       "1337  29141.36030\n",
       "\n",
       "[1338 rows x 1 columns]"
      ]
     },
     "execution_count": 754,
     "metadata": {},
     "output_type": "execute_result"
    }
   ],
   "source": [
    "\n",
    "target=pd.DataFrame(data['charges'])\n",
    "    \n",
    "target\n"
   ]
  },
  {
   "attachments": {},
   "cell_type": "markdown",
   "metadata": {},
   "source": [
    "### Supprimer la target de mon df"
   ]
  },
  {
   "cell_type": "code",
   "execution_count": 755,
   "metadata": {},
   "outputs": [
    {
     "data": {
      "text/html": [
       "<div>\n",
       "<style scoped>\n",
       "    .dataframe tbody tr th:only-of-type {\n",
       "        vertical-align: middle;\n",
       "    }\n",
       "\n",
       "    .dataframe tbody tr th {\n",
       "        vertical-align: top;\n",
       "    }\n",
       "\n",
       "    .dataframe thead th {\n",
       "        text-align: right;\n",
       "    }\n",
       "</style>\n",
       "<table border=\"1\" class=\"dataframe\">\n",
       "  <thead>\n",
       "    <tr style=\"text-align: right;\">\n",
       "      <th></th>\n",
       "      <th>age</th>\n",
       "      <th>sex</th>\n",
       "      <th>bmi</th>\n",
       "      <th>children</th>\n",
       "      <th>smoker</th>\n",
       "      <th>region</th>\n",
       "    </tr>\n",
       "  </thead>\n",
       "  <tbody>\n",
       "    <tr>\n",
       "      <th>0</th>\n",
       "      <td>19</td>\n",
       "      <td>female</td>\n",
       "      <td>27.900</td>\n",
       "      <td>0</td>\n",
       "      <td>yes</td>\n",
       "      <td>southwest</td>\n",
       "    </tr>\n",
       "    <tr>\n",
       "      <th>1</th>\n",
       "      <td>18</td>\n",
       "      <td>male</td>\n",
       "      <td>33.770</td>\n",
       "      <td>1</td>\n",
       "      <td>no</td>\n",
       "      <td>southeast</td>\n",
       "    </tr>\n",
       "    <tr>\n",
       "      <th>2</th>\n",
       "      <td>28</td>\n",
       "      <td>male</td>\n",
       "      <td>33.000</td>\n",
       "      <td>3</td>\n",
       "      <td>no</td>\n",
       "      <td>southeast</td>\n",
       "    </tr>\n",
       "    <tr>\n",
       "      <th>3</th>\n",
       "      <td>33</td>\n",
       "      <td>male</td>\n",
       "      <td>22.705</td>\n",
       "      <td>0</td>\n",
       "      <td>no</td>\n",
       "      <td>northwest</td>\n",
       "    </tr>\n",
       "    <tr>\n",
       "      <th>4</th>\n",
       "      <td>32</td>\n",
       "      <td>male</td>\n",
       "      <td>28.880</td>\n",
       "      <td>0</td>\n",
       "      <td>no</td>\n",
       "      <td>northwest</td>\n",
       "    </tr>\n",
       "    <tr>\n",
       "      <th>...</th>\n",
       "      <td>...</td>\n",
       "      <td>...</td>\n",
       "      <td>...</td>\n",
       "      <td>...</td>\n",
       "      <td>...</td>\n",
       "      <td>...</td>\n",
       "    </tr>\n",
       "    <tr>\n",
       "      <th>1333</th>\n",
       "      <td>50</td>\n",
       "      <td>male</td>\n",
       "      <td>30.970</td>\n",
       "      <td>3</td>\n",
       "      <td>no</td>\n",
       "      <td>northwest</td>\n",
       "    </tr>\n",
       "    <tr>\n",
       "      <th>1334</th>\n",
       "      <td>18</td>\n",
       "      <td>female</td>\n",
       "      <td>31.920</td>\n",
       "      <td>0</td>\n",
       "      <td>no</td>\n",
       "      <td>northeast</td>\n",
       "    </tr>\n",
       "    <tr>\n",
       "      <th>1335</th>\n",
       "      <td>18</td>\n",
       "      <td>female</td>\n",
       "      <td>36.850</td>\n",
       "      <td>0</td>\n",
       "      <td>no</td>\n",
       "      <td>southeast</td>\n",
       "    </tr>\n",
       "    <tr>\n",
       "      <th>1336</th>\n",
       "      <td>21</td>\n",
       "      <td>female</td>\n",
       "      <td>25.800</td>\n",
       "      <td>0</td>\n",
       "      <td>no</td>\n",
       "      <td>southwest</td>\n",
       "    </tr>\n",
       "    <tr>\n",
       "      <th>1337</th>\n",
       "      <td>61</td>\n",
       "      <td>female</td>\n",
       "      <td>29.070</td>\n",
       "      <td>0</td>\n",
       "      <td>yes</td>\n",
       "      <td>northwest</td>\n",
       "    </tr>\n",
       "  </tbody>\n",
       "</table>\n",
       "<p>1338 rows × 6 columns</p>\n",
       "</div>"
      ],
      "text/plain": [
       "      age     sex     bmi  children smoker     region\n",
       "0      19  female  27.900         0    yes  southwest\n",
       "1      18    male  33.770         1     no  southeast\n",
       "2      28    male  33.000         3     no  southeast\n",
       "3      33    male  22.705         0     no  northwest\n",
       "4      32    male  28.880         0     no  northwest\n",
       "...   ...     ...     ...       ...    ...        ...\n",
       "1333   50    male  30.970         3     no  northwest\n",
       "1334   18  female  31.920         0     no  northeast\n",
       "1335   18  female  36.850         0     no  southeast\n",
       "1336   21  female  25.800         0     no  southwest\n",
       "1337   61  female  29.070         0    yes  northwest\n",
       "\n",
       "[1338 rows x 6 columns]"
      ]
     },
     "execution_count": 755,
     "metadata": {},
     "output_type": "execute_result"
    }
   ],
   "source": [
    "data.drop(['charges'] , axis=1,inplace=True)\n",
    "data"
   ]
  },
  {
   "attachments": {},
   "cell_type": "markdown",
   "metadata": {},
   "source": [
    "### Remplacer les données"
   ]
  },
  {
   "attachments": {},
   "cell_type": "markdown",
   "metadata": {},
   "source": [
    "### Séparer mes données en train /test"
   ]
  },
  {
   "cell_type": "code",
   "execution_count": 756,
   "metadata": {},
   "outputs": [],
   "source": [
    "\n",
    "X_train, X_test, y_train, y_test = train_test_split(data, target, test_size=0.2, shuffle=True,random_state=42)\n"
   ]
  },
  {
   "attachments": {},
   "cell_type": "markdown",
   "metadata": {},
   "source": [
    "### Encoder"
   ]
  },
  {
   "cell_type": "code",
   "execution_count": 757,
   "metadata": {},
   "outputs": [
    {
     "data": {
      "text/plain": [
       "array([[ 1.        ,  0.27083333, -1.23744912, ...,  1.        ,\n",
       "         0.        ,  0.        ],\n",
       "       [ 1.        ,  0.3125    , -0.71038746, ...,  1.        ,\n",
       "         0.        ,  0.        ],\n",
       "       [ 1.        ,  0.52083333, -0.64525856, ...,  1.        ,\n",
       "         0.        ,  0.        ],\n",
       "       ...,\n",
       "       [ 1.        ,  0.77083333, -0.6072667 , ...,  0.        ,\n",
       "         0.        ,  1.        ],\n",
       "       [ 1.        , -0.10416667,  2.09739183, ...,  1.        ,\n",
       "         0.        ,  0.        ],\n",
       "       [ 1.        ,  0.64583333, -0.03738881, ...,  0.        ,\n",
       "         0.        ,  1.        ]])"
      ]
     },
     "execution_count": 757,
     "metadata": {},
     "output_type": "execute_result"
    }
   ],
   "source": [
    "# cols_to_norm = ['age', 'bmi']\n",
    "# preprocessor = ColumnTransformer(\n",
    "#     [('scaler',  RobustScaler(), cols_to_norm)],\n",
    "#     remainder='passthrough'\n",
    "# )\n",
    "\n",
    "# pipeline = Pipeline([\n",
    "#     ('normalizer', preprocessor),\n",
    "#     # autres étapes de votre pipeline ici\n",
    "# ])\n",
    "# # Transformation des données\n",
    "# X_train = pipeline.fit_transform(X_train)\n",
    "# X_train\n",
    "# X_test = pipeline.transform(X_test)\n",
    "# X_test\n",
    "cols_to_norm = ['age', 'bmi','children']\n",
    "col_cat = ['region','smoker','sex']\n",
    "scale_one_hot = ColumnTransformer(\n",
    "    [('scaler',  RobustScaler(), cols_to_norm),('one_hot_encoder', OneHotEncoder(), col_cat)]\n",
    "    \n",
    ")\n",
    "\n",
    "preprocessor = Pipeline([\n",
    "    ('normalizer', scale_one_hot),('poly',PolynomialFeatures())\n",
    "    # autres étapes de votre pipeline ici\n",
    "])\n",
    "# Transformation des données\n",
    "\n",
    "preprocessor.fit_transform(X_train, y_train)\n"
   ]
  },
  {
   "attachments": {},
   "cell_type": "markdown",
   "metadata": {},
   "source": [
    "# Modele de machine Learning"
   ]
  },
  {
   "attachments": {},
   "cell_type": "markdown",
   "metadata": {},
   "source": [
    "## LinearRegression"
   ]
  },
  {
   "cell_type": "code",
   "execution_count": 758,
   "metadata": {},
   "outputs": [
    {
     "data": {
      "text/plain": [
       "0.8237295725595646"
      ]
     },
     "execution_count": 758,
     "metadata": {},
     "output_type": "execute_result"
    }
   ],
   "source": [
    "\n",
    "Pipeline_lr = make_pipeline(preprocessor, LinearRegression())\n",
    "\n",
    "\n",
    "Pipeline_lr.fit(X_train, y_train)\n",
    "\n",
    "cv_lr_poly = cross_validate(Pipeline_lr, X_train, y_train, cv=5, scoring= ['r2', 'neg_root_mean_squared_error'])\n",
    "\n",
    "score_lr_poly = cv_lr_poly['test_r2'].mean()\n",
    "score_lr_poly\n"
   ]
  },
  {
   "cell_type": "code",
   "execution_count": 759,
   "metadata": {},
   "outputs": [
    {
     "data": {
      "text/plain": [
       "4955.172512721576"
      ]
     },
     "execution_count": 759,
     "metadata": {},
     "output_type": "execute_result"
    }
   ],
   "source": [
    "rmse_lr_poly = np.abs(cv_lr_poly['test_neg_root_mean_squared_error'].mean())\n",
    "rmse_lr_poly"
   ]
  },
  {
   "attachments": {},
   "cell_type": "markdown",
   "metadata": {},
   "source": [
    "## Lasso"
   ]
  },
  {
   "cell_type": "code",
   "execution_count": 760,
   "metadata": {},
   "outputs": [],
   "source": [
    "# my_pipe_lasso= make_pipeline(preprocessor, Lasso(alpha = 0.8))\n",
    "\n",
    "# my_pipe_lasso.fit(X_train, y_train)\n",
    "# print (\"my_pipe_lasso score : \", my_pipe_lasso.score(X_test, y_test))\n"
   ]
  },
  {
   "attachments": {},
   "cell_type": "markdown",
   "metadata": {},
   "source": [
    "## Ridge"
   ]
  },
  {
   "cell_type": "code",
   "execution_count": 761,
   "metadata": {},
   "outputs": [],
   "source": [
    "# my_pipe_rg = make_pipeline(preprocessor, Ridge(alpha=0.1))\n",
    "# my_pipe_rg.fit(X_train, y_train)\n",
    "# print (\"my_pipe_rg score : \" , my_pipe_rg.score(X_test, y_test))"
   ]
  },
  {
   "cell_type": "code",
   "execution_count": 762,
   "metadata": {},
   "outputs": [],
   "source": [
    "# my_pipe_rg.get_params()"
   ]
  },
  {
   "cell_type": "code",
   "execution_count": 763,
   "metadata": {},
   "outputs": [],
   "source": [
    "# hyperparametres={'ridge__alpha':[0.01,0.1,0.2,1,10]}\n",
    "# random_search=GridSearchCV(my_pipe_rg,hyperparametres,cv=5)\n",
    "# random_search\n",
    "# random_search.fit(X_train,y_train)"
   ]
  },
  {
   "cell_type": "code",
   "execution_count": 764,
   "metadata": {},
   "outputs": [],
   "source": [
    "# random_search.best_params_\n",
    "# my_pipe_rg.set_params(**random_search.best_params_)\n",
    "# my_pipe_rg.fit(X_train, y_train)\n",
    "# print (\"my_pipe_rg score : \" , my_pipe_rg.score(X_test, y_test))"
   ]
  },
  {
   "attachments": {},
   "cell_type": "markdown",
   "metadata": {},
   "source": [
    "## ElasticNet"
   ]
  },
  {
   "cell_type": "code",
   "execution_count": 765,
   "metadata": {},
   "outputs": [
    {
     "data": {
      "text/plain": [
       "{'memory': None,\n",
       " 'steps': [('pipeline', Pipeline(steps=[('normalizer',\n",
       "                    ColumnTransformer(transformers=[('scaler', RobustScaler(),\n",
       "                                                     ['age', 'bmi', 'children']),\n",
       "                                                    ('one_hot_encoder',\n",
       "                                                     OneHotEncoder(),\n",
       "                                                     ['region', 'smoker',\n",
       "                                                      'sex'])])),\n",
       "                   ('poly', PolynomialFeatures())])),\n",
       "  ('elasticnet', ElasticNet(max_iter=100, random_state=42))],\n",
       " 'verbose': False,\n",
       " 'pipeline': Pipeline(steps=[('normalizer',\n",
       "                  ColumnTransformer(transformers=[('scaler', RobustScaler(),\n",
       "                                                   ['age', 'bmi', 'children']),\n",
       "                                                  ('one_hot_encoder',\n",
       "                                                   OneHotEncoder(),\n",
       "                                                   ['region', 'smoker',\n",
       "                                                    'sex'])])),\n",
       "                 ('poly', PolynomialFeatures())]),\n",
       " 'elasticnet': ElasticNet(max_iter=100, random_state=42),\n",
       " 'pipeline__memory': None,\n",
       " 'pipeline__steps': [('normalizer',\n",
       "   ColumnTransformer(transformers=[('scaler', RobustScaler(),\n",
       "                                    ['age', 'bmi', 'children']),\n",
       "                                   ('one_hot_encoder', OneHotEncoder(),\n",
       "                                    ['region', 'smoker', 'sex'])])),\n",
       "  ('poly', PolynomialFeatures())],\n",
       " 'pipeline__verbose': False,\n",
       " 'pipeline__normalizer': ColumnTransformer(transformers=[('scaler', RobustScaler(),\n",
       "                                  ['age', 'bmi', 'children']),\n",
       "                                 ('one_hot_encoder', OneHotEncoder(),\n",
       "                                  ['region', 'smoker', 'sex'])]),\n",
       " 'pipeline__poly': PolynomialFeatures(),\n",
       " 'pipeline__normalizer__n_jobs': None,\n",
       " 'pipeline__normalizer__remainder': 'drop',\n",
       " 'pipeline__normalizer__sparse_threshold': 0.3,\n",
       " 'pipeline__normalizer__transformer_weights': None,\n",
       " 'pipeline__normalizer__transformers': [('scaler',\n",
       "   RobustScaler(),\n",
       "   ['age', 'bmi', 'children']),\n",
       "  ('one_hot_encoder', OneHotEncoder(), ['region', 'smoker', 'sex'])],\n",
       " 'pipeline__normalizer__verbose': False,\n",
       " 'pipeline__normalizer__verbose_feature_names_out': True,\n",
       " 'pipeline__normalizer__scaler': RobustScaler(),\n",
       " 'pipeline__normalizer__one_hot_encoder': OneHotEncoder(),\n",
       " 'pipeline__normalizer__scaler__copy': True,\n",
       " 'pipeline__normalizer__scaler__quantile_range': (25.0, 75.0),\n",
       " 'pipeline__normalizer__scaler__unit_variance': False,\n",
       " 'pipeline__normalizer__scaler__with_centering': True,\n",
       " 'pipeline__normalizer__scaler__with_scaling': True,\n",
       " 'pipeline__normalizer__one_hot_encoder__categories': 'auto',\n",
       " 'pipeline__normalizer__one_hot_encoder__drop': None,\n",
       " 'pipeline__normalizer__one_hot_encoder__dtype': numpy.float64,\n",
       " 'pipeline__normalizer__one_hot_encoder__handle_unknown': 'error',\n",
       " 'pipeline__normalizer__one_hot_encoder__max_categories': None,\n",
       " 'pipeline__normalizer__one_hot_encoder__min_frequency': None,\n",
       " 'pipeline__normalizer__one_hot_encoder__sparse': 'deprecated',\n",
       " 'pipeline__normalizer__one_hot_encoder__sparse_output': True,\n",
       " 'pipeline__poly__degree': 2,\n",
       " 'pipeline__poly__include_bias': True,\n",
       " 'pipeline__poly__interaction_only': False,\n",
       " 'pipeline__poly__order': 'C',\n",
       " 'elasticnet__alpha': 1.0,\n",
       " 'elasticnet__copy_X': True,\n",
       " 'elasticnet__fit_intercept': True,\n",
       " 'elasticnet__l1_ratio': 0.5,\n",
       " 'elasticnet__max_iter': 100,\n",
       " 'elasticnet__positive': False,\n",
       " 'elasticnet__precompute': False,\n",
       " 'elasticnet__random_state': 42,\n",
       " 'elasticnet__selection': 'cyclic',\n",
       " 'elasticnet__tol': 0.0001,\n",
       " 'elasticnet__warm_start': False}"
      ]
     },
     "execution_count": 765,
     "metadata": {},
     "output_type": "execute_result"
    }
   ],
   "source": [
    "# l1_ratios = [0.01, 0.1, 0.5, 0.9, 0.99]\n",
    "# alphas = [0.01, 0.1, 0.5, 0.9, 0.99, 1]\n",
    "# scores=[]\n",
    "# for l1_ratio in l1_ratios:\n",
    "#   for alpha in alphas:\n",
    "#     my_pipe_EN = make_pipeline(preprocessor,  ElasticNet(l1_ratio=l1_ratio, alpha=alpha))\n",
    "#     my_pipe_EN .fit(X_train, y_train)\n",
    "#     # Evaluer le modèle sur des données de validation\n",
    "#     score =  my_pipe_EN .score(X_test, y_test)\n",
    "    \n",
    "#     # Sauvegarder le score et les paramètres\n",
    "#     scores.append((score, l1_ratio, alpha))\n",
    "\n",
    "#     # Trouver et afficher le meilleur score\n",
    "#     best_score, best_l1_ratio, best_alpha = max(scores, key=lambda x: x[0])\n",
    "#     print('Meilleur score: {:.3f} (l1_ratio={:.2f}, alpha={:.2f})'.format(best_score, best_l1_ratio, best_alpha))\n",
    " \n",
    "my_pipe_EN = make_pipeline(preprocessor,  ElasticNet(max_iter= 100, random_state=42))\n",
    "my_pipe_EN .fit(X_train, y_train)\n",
    "\n",
    "my_pipe_EN.get_params()\n",
    "\n",
    "\n"
   ]
  },
  {
   "cell_type": "code",
   "execution_count": 766,
   "metadata": {},
   "outputs": [
    {
     "name": "stderr",
     "output_type": "stream",
     "text": [
      "/home/apprenant/miniconda3/envs/dt_env/lib/python3.9/site-packages/sklearn/linear_model/_coordinate_descent.py:634: ConvergenceWarning: Objective did not converge. You might want to increase the number of iterations, check the scale of the features or consider increasing regularisation. Duality gap: 1.686e+10, tolerance: 1.242e+07 Linear regression models with null weight for the l1 regularization term are more efficiently fitted using one of the solvers implemented in sklearn.linear_model.Ridge/RidgeCV instead.\n",
      "  model = cd_fast.enet_coordinate_descent(\n",
      "/home/apprenant/miniconda3/envs/dt_env/lib/python3.9/site-packages/sklearn/linear_model/_coordinate_descent.py:634: ConvergenceWarning: Objective did not converge. You might want to increase the number of iterations, check the scale of the features or consider increasing regularisation. Duality gap: 1.746e+10, tolerance: 1.194e+07 Linear regression models with null weight for the l1 regularization term are more efficiently fitted using one of the solvers implemented in sklearn.linear_model.Ridge/RidgeCV instead.\n",
      "  model = cd_fast.enet_coordinate_descent(\n",
      "/home/apprenant/miniconda3/envs/dt_env/lib/python3.9/site-packages/sklearn/linear_model/_coordinate_descent.py:634: ConvergenceWarning: Objective did not converge. You might want to increase the number of iterations, check the scale of the features or consider increasing regularisation. Duality gap: 1.691e+10, tolerance: 1.266e+07 Linear regression models with null weight for the l1 regularization term are more efficiently fitted using one of the solvers implemented in sklearn.linear_model.Ridge/RidgeCV instead.\n",
      "  model = cd_fast.enet_coordinate_descent(\n",
      "/home/apprenant/miniconda3/envs/dt_env/lib/python3.9/site-packages/sklearn/linear_model/_coordinate_descent.py:634: ConvergenceWarning: Objective did not converge. You might want to increase the number of iterations, check the scale of the features or consider increasing regularisation. Duality gap: 1.616e+10, tolerance: 1.253e+07 Linear regression models with null weight for the l1 regularization term are more efficiently fitted using one of the solvers implemented in sklearn.linear_model.Ridge/RidgeCV instead.\n",
      "  model = cd_fast.enet_coordinate_descent(\n",
      "/home/apprenant/miniconda3/envs/dt_env/lib/python3.9/site-packages/sklearn/linear_model/_coordinate_descent.py:634: ConvergenceWarning: Objective did not converge. You might want to increase the number of iterations, check the scale of the features or consider increasing regularisation. Duality gap: 1.706e+10, tolerance: 1.222e+07 Linear regression models with null weight for the l1 regularization term are more efficiently fitted using one of the solvers implemented in sklearn.linear_model.Ridge/RidgeCV instead.\n",
      "  model = cd_fast.enet_coordinate_descent(\n",
      "/home/apprenant/miniconda3/envs/dt_env/lib/python3.9/site-packages/sklearn/linear_model/_coordinate_descent.py:634: ConvergenceWarning: Objective did not converge. You might want to increase the number of iterations, check the scale of the features or consider increasing regularisation. Duality gap: 1.630e+09, tolerance: 1.242e+07\n",
      "  model = cd_fast.enet_coordinate_descent(\n",
      "/home/apprenant/miniconda3/envs/dt_env/lib/python3.9/site-packages/sklearn/linear_model/_coordinate_descent.py:634: ConvergenceWarning: Objective did not converge. You might want to increase the number of iterations, check the scale of the features or consider increasing regularisation. Duality gap: 2.466e+09, tolerance: 1.194e+07\n",
      "  model = cd_fast.enet_coordinate_descent(\n",
      "/home/apprenant/miniconda3/envs/dt_env/lib/python3.9/site-packages/sklearn/linear_model/_coordinate_descent.py:634: ConvergenceWarning: Objective did not converge. You might want to increase the number of iterations, check the scale of the features or consider increasing regularisation. Duality gap: 1.894e+09, tolerance: 1.266e+07\n",
      "  model = cd_fast.enet_coordinate_descent(\n",
      "/home/apprenant/miniconda3/envs/dt_env/lib/python3.9/site-packages/sklearn/linear_model/_coordinate_descent.py:634: ConvergenceWarning: Objective did not converge. You might want to increase the number of iterations, check the scale of the features or consider increasing regularisation. Duality gap: 1.883e+09, tolerance: 1.253e+07\n",
      "  model = cd_fast.enet_coordinate_descent(\n",
      "/home/apprenant/miniconda3/envs/dt_env/lib/python3.9/site-packages/sklearn/linear_model/_coordinate_descent.py:634: ConvergenceWarning: Objective did not converge. You might want to increase the number of iterations, check the scale of the features or consider increasing regularisation. Duality gap: 1.968e+09, tolerance: 1.222e+07\n",
      "  model = cd_fast.enet_coordinate_descent(\n",
      "/home/apprenant/miniconda3/envs/dt_env/lib/python3.9/site-packages/sklearn/linear_model/_coordinate_descent.py:634: ConvergenceWarning: Objective did not converge. You might want to increase the number of iterations, check the scale of the features or consider increasing regularisation. Duality gap: 3.821e+10, tolerance: 1.242e+07 Linear regression models with null weight for the l1 regularization term are more efficiently fitted using one of the solvers implemented in sklearn.linear_model.Ridge/RidgeCV instead.\n",
      "  model = cd_fast.enet_coordinate_descent(\n",
      "/home/apprenant/miniconda3/envs/dt_env/lib/python3.9/site-packages/sklearn/linear_model/_coordinate_descent.py:634: ConvergenceWarning: Objective did not converge. You might want to increase the number of iterations, check the scale of the features or consider increasing regularisation. Duality gap: 3.778e+10, tolerance: 1.194e+07 Linear regression models with null weight for the l1 regularization term are more efficiently fitted using one of the solvers implemented in sklearn.linear_model.Ridge/RidgeCV instead.\n",
      "  model = cd_fast.enet_coordinate_descent(\n",
      "/home/apprenant/miniconda3/envs/dt_env/lib/python3.9/site-packages/sklearn/linear_model/_coordinate_descent.py:634: ConvergenceWarning: Objective did not converge. You might want to increase the number of iterations, check the scale of the features or consider increasing regularisation. Duality gap: 3.866e+10, tolerance: 1.266e+07 Linear regression models with null weight for the l1 regularization term are more efficiently fitted using one of the solvers implemented in sklearn.linear_model.Ridge/RidgeCV instead.\n",
      "  model = cd_fast.enet_coordinate_descent(\n",
      "/home/apprenant/miniconda3/envs/dt_env/lib/python3.9/site-packages/sklearn/linear_model/_coordinate_descent.py:634: ConvergenceWarning: Objective did not converge. You might want to increase the number of iterations, check the scale of the features or consider increasing regularisation. Duality gap: 3.800e+10, tolerance: 1.253e+07 Linear regression models with null weight for the l1 regularization term are more efficiently fitted using one of the solvers implemented in sklearn.linear_model.Ridge/RidgeCV instead.\n",
      "  model = cd_fast.enet_coordinate_descent(\n",
      "/home/apprenant/miniconda3/envs/dt_env/lib/python3.9/site-packages/sklearn/linear_model/_coordinate_descent.py:634: ConvergenceWarning: Objective did not converge. You might want to increase the number of iterations, check the scale of the features or consider increasing regularisation. Duality gap: 3.782e+10, tolerance: 1.222e+07 Linear regression models with null weight for the l1 regularization term are more efficiently fitted using one of the solvers implemented in sklearn.linear_model.Ridge/RidgeCV instead.\n",
      "  model = cd_fast.enet_coordinate_descent(\n",
      "/home/apprenant/miniconda3/envs/dt_env/lib/python3.9/site-packages/sklearn/linear_model/_coordinate_descent.py:634: ConvergenceWarning: Objective did not converge. You might want to increase the number of iterations, check the scale of the features or consider increasing regularisation. Duality gap: 1.768e+09, tolerance: 1.242e+07\n",
      "  model = cd_fast.enet_coordinate_descent(\n",
      "/home/apprenant/miniconda3/envs/dt_env/lib/python3.9/site-packages/sklearn/linear_model/_coordinate_descent.py:634: ConvergenceWarning: Objective did not converge. You might want to increase the number of iterations, check the scale of the features or consider increasing regularisation. Duality gap: 2.765e+09, tolerance: 1.194e+07\n",
      "  model = cd_fast.enet_coordinate_descent(\n",
      "/home/apprenant/miniconda3/envs/dt_env/lib/python3.9/site-packages/sklearn/linear_model/_coordinate_descent.py:634: ConvergenceWarning: Objective did not converge. You might want to increase the number of iterations, check the scale of the features or consider increasing regularisation. Duality gap: 2.200e+09, tolerance: 1.266e+07\n",
      "  model = cd_fast.enet_coordinate_descent(\n",
      "/home/apprenant/miniconda3/envs/dt_env/lib/python3.9/site-packages/sklearn/linear_model/_coordinate_descent.py:634: ConvergenceWarning: Objective did not converge. You might want to increase the number of iterations, check the scale of the features or consider increasing regularisation. Duality gap: 2.771e+09, tolerance: 1.253e+07\n",
      "  model = cd_fast.enet_coordinate_descent(\n",
      "/home/apprenant/miniconda3/envs/dt_env/lib/python3.9/site-packages/sklearn/linear_model/_coordinate_descent.py:634: ConvergenceWarning: Objective did not converge. You might want to increase the number of iterations, check the scale of the features or consider increasing regularisation. Duality gap: 2.193e+09, tolerance: 1.222e+07\n",
      "  model = cd_fast.enet_coordinate_descent(\n",
      "/home/apprenant/miniconda3/envs/dt_env/lib/python3.9/site-packages/sklearn/linear_model/_coordinate_descent.py:634: ConvergenceWarning: Objective did not converge. You might want to increase the number of iterations, check the scale of the features or consider increasing regularisation. Duality gap: 5.820e+10, tolerance: 1.242e+07 Linear regression models with null weight for the l1 regularization term are more efficiently fitted using one of the solvers implemented in sklearn.linear_model.Ridge/RidgeCV instead.\n",
      "  model = cd_fast.enet_coordinate_descent(\n",
      "/home/apprenant/miniconda3/envs/dt_env/lib/python3.9/site-packages/sklearn/linear_model/_coordinate_descent.py:634: ConvergenceWarning: Objective did not converge. You might want to increase the number of iterations, check the scale of the features or consider increasing regularisation. Duality gap: 5.615e+10, tolerance: 1.194e+07 Linear regression models with null weight for the l1 regularization term are more efficiently fitted using one of the solvers implemented in sklearn.linear_model.Ridge/RidgeCV instead.\n",
      "  model = cd_fast.enet_coordinate_descent(\n",
      "/home/apprenant/miniconda3/envs/dt_env/lib/python3.9/site-packages/sklearn/linear_model/_coordinate_descent.py:634: ConvergenceWarning: Objective did not converge. You might want to increase the number of iterations, check the scale of the features or consider increasing regularisation. Duality gap: 5.922e+10, tolerance: 1.266e+07 Linear regression models with null weight for the l1 regularization term are more efficiently fitted using one of the solvers implemented in sklearn.linear_model.Ridge/RidgeCV instead.\n",
      "  model = cd_fast.enet_coordinate_descent(\n",
      "/home/apprenant/miniconda3/envs/dt_env/lib/python3.9/site-packages/sklearn/linear_model/_coordinate_descent.py:634: ConvergenceWarning: Objective did not converge. You might want to increase the number of iterations, check the scale of the features or consider increasing regularisation. Duality gap: 5.859e+10, tolerance: 1.253e+07 Linear regression models with null weight for the l1 regularization term are more efficiently fitted using one of the solvers implemented in sklearn.linear_model.Ridge/RidgeCV instead.\n",
      "  model = cd_fast.enet_coordinate_descent(\n",
      "/home/apprenant/miniconda3/envs/dt_env/lib/python3.9/site-packages/sklearn/linear_model/_coordinate_descent.py:634: ConvergenceWarning: Objective did not converge. You might want to increase the number of iterations, check the scale of the features or consider increasing regularisation. Duality gap: 5.726e+10, tolerance: 1.222e+07 Linear regression models with null weight for the l1 regularization term are more efficiently fitted using one of the solvers implemented in sklearn.linear_model.Ridge/RidgeCV instead.\n",
      "  model = cd_fast.enet_coordinate_descent(\n",
      "/home/apprenant/miniconda3/envs/dt_env/lib/python3.9/site-packages/sklearn/linear_model/_coordinate_descent.py:634: ConvergenceWarning: Objective did not converge. You might want to increase the number of iterations, check the scale of the features or consider increasing regularisation. Duality gap: 7.802e+08, tolerance: 1.242e+07\n",
      "  model = cd_fast.enet_coordinate_descent(\n",
      "/home/apprenant/miniconda3/envs/dt_env/lib/python3.9/site-packages/sklearn/linear_model/_coordinate_descent.py:634: ConvergenceWarning: Objective did not converge. You might want to increase the number of iterations, check the scale of the features or consider increasing regularisation. Duality gap: 8.527e+08, tolerance: 1.194e+07\n",
      "  model = cd_fast.enet_coordinate_descent(\n",
      "/home/apprenant/miniconda3/envs/dt_env/lib/python3.9/site-packages/sklearn/linear_model/_coordinate_descent.py:634: ConvergenceWarning: Objective did not converge. You might want to increase the number of iterations, check the scale of the features or consider increasing regularisation. Duality gap: 7.703e+08, tolerance: 1.266e+07\n",
      "  model = cd_fast.enet_coordinate_descent(\n",
      "/home/apprenant/miniconda3/envs/dt_env/lib/python3.9/site-packages/sklearn/linear_model/_coordinate_descent.py:634: ConvergenceWarning: Objective did not converge. You might want to increase the number of iterations, check the scale of the features or consider increasing regularisation. Duality gap: 7.472e+08, tolerance: 1.253e+07\n",
      "  model = cd_fast.enet_coordinate_descent(\n",
      "/home/apprenant/miniconda3/envs/dt_env/lib/python3.9/site-packages/sklearn/linear_model/_coordinate_descent.py:634: ConvergenceWarning: Objective did not converge. You might want to increase the number of iterations, check the scale of the features or consider increasing regularisation. Duality gap: 5.950e+08, tolerance: 1.222e+07\n",
      "  model = cd_fast.enet_coordinate_descent(\n"
     ]
    },
    {
     "name": "stdout",
     "output_type": "stream",
     "text": [
      "Meilleurs hyperparametres :  {'elasticnet__alpha': 10, 'elasticnet__l1_ratio': 1.0}\n",
      "Meilleur score :  0.8277360333801514\n"
     ]
    },
    {
     "name": "stderr",
     "output_type": "stream",
     "text": [
      "/home/apprenant/miniconda3/envs/dt_env/lib/python3.9/site-packages/sklearn/linear_model/_coordinate_descent.py:634: ConvergenceWarning: Objective did not converge. You might want to increase the number of iterations, check the scale of the features or consider increasing regularisation. Duality gap: 9.874e+08, tolerance: 1.544e+07\n",
      "  model = cd_fast.enet_coordinate_descent(\n"
     ]
    }
   ],
   "source": [
    "param_grid = {'elasticnet__alpha':[0.1,0.9,10],\n",
    "              'elasticnet__l1_ratio':[0.0,1.0,0.1]}\n",
    "\n",
    "grid = GridSearchCV(my_pipe_EN, param_grid, cv = 5, scoring = 'r2')\n",
    "grid.fit(X_train, y_train)\n",
    "my_pipe_EN.set_params(**grid.best_params_)\n",
    "print(\"Meilleurs hyperparametres : \", grid.best_params_)\n",
    "print(\"Meilleur score : \", grid.best_score_)"
   ]
  },
  {
   "cell_type": "code",
   "execution_count": 767,
   "metadata": {},
   "outputs": [
    {
     "data": {
      "text/plain": [
       "array([[10041.00400104],\n",
       "       [10519.39492482],\n",
       "       [11337.78771122],\n",
       "       ...,\n",
       "       [12270.95814842],\n",
       "       [31445.89031249],\n",
       "       [12107.20983866]])"
      ]
     },
     "execution_count": 767,
     "metadata": {},
     "output_type": "execute_result"
    }
   ],
   "source": [
    "y_pred_enet = my_pipe_EN.predict(X_train)\n",
    "y_pred_enet = y_pred_enet.reshape(1070,1)\n",
    "y_pred_enet"
   ]
  },
  {
   "cell_type": "code",
   "execution_count": 768,
   "metadata": {},
   "outputs": [
    {
     "data": {
      "text/html": [
       "<div>\n",
       "<style scoped>\n",
       "    .dataframe tbody tr th:only-of-type {\n",
       "        vertical-align: middle;\n",
       "    }\n",
       "\n",
       "    .dataframe tbody tr th {\n",
       "        vertical-align: top;\n",
       "    }\n",
       "\n",
       "    .dataframe thead th {\n",
       "        text-align: right;\n",
       "    }\n",
       "</style>\n",
       "<table border=\"1\" class=\"dataframe\">\n",
       "  <thead>\n",
       "    <tr style=\"text-align: right;\">\n",
       "      <th></th>\n",
       "      <th>charges</th>\n",
       "    </tr>\n",
       "  </thead>\n",
       "  <tbody>\n",
       "    <tr>\n",
       "      <th>560</th>\n",
       "      <td>847.165501</td>\n",
       "    </tr>\n",
       "    <tr>\n",
       "      <th>1285</th>\n",
       "      <td>1984.723125</td>\n",
       "    </tr>\n",
       "    <tr>\n",
       "      <th>1142</th>\n",
       "      <td>15780.206069</td>\n",
       "    </tr>\n",
       "    <tr>\n",
       "      <th>969</th>\n",
       "      <td>3309.045754</td>\n",
       "    </tr>\n",
       "    <tr>\n",
       "      <th>486</th>\n",
       "      <td>507.660390</td>\n",
       "    </tr>\n",
       "    <tr>\n",
       "      <th>...</th>\n",
       "      <td>...</td>\n",
       "    </tr>\n",
       "    <tr>\n",
       "      <th>1095</th>\n",
       "      <td>4248.672870</td>\n",
       "    </tr>\n",
       "    <tr>\n",
       "      <th>1130</th>\n",
       "      <td>1495.606677</td>\n",
       "    </tr>\n",
       "    <tr>\n",
       "      <th>1294</th>\n",
       "      <td>339.832898</td>\n",
       "    </tr>\n",
       "    <tr>\n",
       "      <th>860</th>\n",
       "      <td>14667.620688</td>\n",
       "    </tr>\n",
       "    <tr>\n",
       "      <th>1126</th>\n",
       "      <td>1892.573839</td>\n",
       "    </tr>\n",
       "  </tbody>\n",
       "</table>\n",
       "<p>1070 rows × 1 columns</p>\n",
       "</div>"
      ],
      "text/plain": [
       "           charges\n",
       "560     847.165501\n",
       "1285   1984.723125\n",
       "1142  15780.206069\n",
       "969    3309.045754\n",
       "486     507.660390\n",
       "...            ...\n",
       "1095   4248.672870\n",
       "1130   1495.606677\n",
       "1294    339.832898\n",
       "860   14667.620688\n",
       "1126   1892.573839\n",
       "\n",
       "[1070 rows x 1 columns]"
      ]
     },
     "execution_count": 768,
     "metadata": {},
     "output_type": "execute_result"
    }
   ],
   "source": [
    "residual = (y_pred_enet-y_train).abs()\n",
    "residual"
   ]
  },
  {
   "cell_type": "code",
   "execution_count": 769,
   "metadata": {},
   "outputs": [
    {
     "data": {
      "text/html": [
       "<div>\n",
       "<style scoped>\n",
       "    .dataframe tbody tr th:only-of-type {\n",
       "        vertical-align: middle;\n",
       "    }\n",
       "\n",
       "    .dataframe tbody tr th {\n",
       "        vertical-align: top;\n",
       "    }\n",
       "\n",
       "    .dataframe thead th {\n",
       "        text-align: right;\n",
       "    }\n",
       "</style>\n",
       "<table border=\"1\" class=\"dataframe\">\n",
       "  <thead>\n",
       "    <tr style=\"text-align: right;\">\n",
       "      <th></th>\n",
       "      <th>charges</th>\n",
       "    </tr>\n",
       "  </thead>\n",
       "  <tbody>\n",
       "    <tr>\n",
       "      <th>560</th>\n",
       "      <td>847.165501</td>\n",
       "    </tr>\n",
       "    <tr>\n",
       "      <th>1285</th>\n",
       "      <td>1984.723125</td>\n",
       "    </tr>\n",
       "    <tr>\n",
       "      <th>1142</th>\n",
       "      <td>15780.206069</td>\n",
       "    </tr>\n",
       "    <tr>\n",
       "      <th>969</th>\n",
       "      <td>3309.045754</td>\n",
       "    </tr>\n",
       "    <tr>\n",
       "      <th>486</th>\n",
       "      <td>507.660390</td>\n",
       "    </tr>\n",
       "    <tr>\n",
       "      <th>...</th>\n",
       "      <td>...</td>\n",
       "    </tr>\n",
       "    <tr>\n",
       "      <th>1095</th>\n",
       "      <td>4248.672870</td>\n",
       "    </tr>\n",
       "    <tr>\n",
       "      <th>1130</th>\n",
       "      <td>1495.606677</td>\n",
       "    </tr>\n",
       "    <tr>\n",
       "      <th>1294</th>\n",
       "      <td>339.832898</td>\n",
       "    </tr>\n",
       "    <tr>\n",
       "      <th>860</th>\n",
       "      <td>14667.620688</td>\n",
       "    </tr>\n",
       "    <tr>\n",
       "      <th>1126</th>\n",
       "      <td>1892.573839</td>\n",
       "    </tr>\n",
       "  </tbody>\n",
       "</table>\n",
       "<p>1070 rows × 1 columns</p>\n",
       "</div>"
      ],
      "text/plain": [
       "           charges\n",
       "560     847.165501\n",
       "1285   1984.723125\n",
       "1142  15780.206069\n",
       "969    3309.045754\n",
       "486     507.660390\n",
       "...            ...\n",
       "1095   4248.672870\n",
       "1130   1495.606677\n",
       "1294    339.832898\n",
       "860   14667.620688\n",
       "1126   1892.573839\n",
       "\n",
       "[1070 rows x 1 columns]"
      ]
     },
     "execution_count": 769,
     "metadata": {},
     "output_type": "execute_result"
    }
   ],
   "source": [
    "residual_enet = (y_pred_enet-y_train).abs()\n",
    "residual_enet"
   ]
  },
  {
   "cell_type": "code",
   "execution_count": 770,
   "metadata": {},
   "outputs": [
    {
     "data": {
      "image/png": "[encoded data removed]",
      "text/plain": [
       "<Figure size 640x480 with 1 Axes>"
      ]
     },
     "metadata": {},
     "output_type": "display_data"
    }
   ],
   "source": [
    "#plot residuals POUR ELASTIC NET \n",
    "\n",
    "plt.scatter(y_train.index, residual_enet , color=\"blue\")\n",
    "plt.title(\"Erreurs de prédictions ELASTIC NET (residuals)\")\n",
    "plt.xlabel(\"Charges réelles\")\n",
    "plt.ylabel(\"Erreurs de prédiction\")\n",
    "plt.show()"
   ]
  },
  {
   "cell_type": "code",
   "execution_count": 771,
   "metadata": {},
   "outputs": [
    {
     "name": "stdout",
     "output_type": "stream",
     "text": [
      "my_pipe_e_net score :  0.8733300177897648\n"
     ]
    },
    {
     "name": "stderr",
     "output_type": "stream",
     "text": [
      "/home/apprenant/miniconda3/envs/dt_env/lib/python3.9/site-packages/sklearn/linear_model/_coordinate_descent.py:634: ConvergenceWarning: Objective did not converge. You might want to increase the number of iterations, check the scale of the features or consider increasing regularisation. Duality gap: 5.840e+08, tolerance: 1.120e+07\n",
      "  model = cd_fast.enet_coordinate_descent(\n",
      "/home/apprenant/miniconda3/envs/dt_env/lib/python3.9/site-packages/sklearn/linear_model/_coordinate_descent.py:634: ConvergenceWarning: Objective did not converge. You might want to increase the number of iterations, check the scale of the features or consider increasing regularisation. Duality gap: 1.152e+07, tolerance: 8.683e+06\n",
      "  model = cd_fast.enet_coordinate_descent(\n",
      "/home/apprenant/miniconda3/envs/dt_env/lib/python3.9/site-packages/sklearn/linear_model/_coordinate_descent.py:634: ConvergenceWarning: Objective did not converge. You might want to increase the number of iterations, check the scale of the features or consider increasing regularisation. Duality gap: 4.984e+08, tolerance: 8.901e+06\n",
      "  model = cd_fast.enet_coordinate_descent(\n",
      "/home/apprenant/miniconda3/envs/dt_env/lib/python3.9/site-packages/sklearn/linear_model/_coordinate_descent.py:634: ConvergenceWarning: Objective did not converge. You might want to increase the number of iterations, check the scale of the features or consider increasing regularisation. Duality gap: 3.795e+08, tolerance: 9.051e+06\n",
      "  model = cd_fast.enet_coordinate_descent(\n",
      "/home/apprenant/miniconda3/envs/dt_env/lib/python3.9/site-packages/sklearn/linear_model/_coordinate_descent.py:634: ConvergenceWarning: Objective did not converge. You might want to increase the number of iterations, check the scale of the features or consider increasing regularisation. Duality gap: 4.561e+08, tolerance: 9.179e+06\n",
      "  model = cd_fast.enet_coordinate_descent(\n",
      "/home/apprenant/miniconda3/envs/dt_env/lib/python3.9/site-packages/sklearn/linear_model/_coordinate_descent.py:634: ConvergenceWarning: Objective did not converge. You might want to increase the number of iterations, check the scale of the features or consider increasing regularisation. Duality gap: 4.578e+08, tolerance: 8.988e+06\n",
      "  model = cd_fast.enet_coordinate_descent(\n"
     ]
    }
   ],
   "source": [
    "# Filter the residuals greater than 20000 \n",
    "residual_to_drop = residual_enet[residual_enet['charges'] > 15000].index\n",
    "\n",
    "# Recreate the X_train and y_train\n",
    "X_train_new_enet = X_train.drop(residual_to_drop)\n",
    "y_train_new_enet = y_train.drop(residual_to_drop)\n",
    "\n",
    "\n",
    "# # Retrain the model with new data \n",
    "my_pipe_EN.fit(X_train_new_enet, y_train_new_enet)\n",
    "\n",
    "\n",
    "# # Predict on new data\n",
    "scores_enet = cross_val_score(my_pipe_EN, X_train_new_enet, y_train_new_enet, cv=5).mean()\n",
    "print (\"my_pipe_e_net score : \" , scores_enet )"
   ]
  },
  {
   "cell_type": "code",
   "execution_count": 772,
   "metadata": {},
   "outputs": [],
   "source": [
    "# my_pipe_EN = make_pipeline(preprocessor, ElasticNet(random_state=42))\n",
    "\n",
    "# parameters = {\"elasticnet__alpha\":np.linspace(0.1,0.9,10),\"elasticnet__l1_ratio\":np.arange(0.0,1.0,0.1)}\n",
    "\n",
    "# randm_src = GridSearchCV(estimator=my_pipe_EN, param_grid=parameters,scoring='r2',cv = 5)\n",
    "# randm_src.fit(X_train, y_train)\n",
    "# print(randm_src.best_params_)"
   ]
  },
  {
   "cell_type": "code",
   "execution_count": 773,
   "metadata": {},
   "outputs": [],
   "source": [
    "# my_pipe_EN = make_pipeline(preprocessor, ElasticNet(random_state=42))\n",
    "\n",
    "# parameters = {'elasticnet__alpha': 0.1, 'elasticnet__l1_ratio': 0.99}\n",
    "\n",
    "\n",
    "\n",
    "# my_pipe_EN.set_params(**randm_src.best_params_)\n",
    "# my_pipe_EN.get_params()\n",
    "# my_pipe_EN.fit(X_train, y_train)\n",
    "# print (\"my_pipe_rg score : \" , my_pipe_EN.score(X_test, y_test))\n"
   ]
  }
 ],
 "metadata": {
  "kernelspec": {
   "display_name": "dt_env",
   "language": "python",
   "name": "python3"
  },
  "language_info": {
   "codemirror_mode": {
    "name": "ipython",
    "version": 3
   },
   "file_extension": ".py",
   "mimetype": "text/x-python",
   "name": "python",
   "nbconvert_exporter": "python",
   "pygments_lexer": "ipython3",
   "version": "3.9.15"
  },
  "orig_nbformat": 4,
  "vscode": {
   "interpreter": {
    "hash": "574e2ed95378eed8b520b4095c37c02073032c9c1ddd2478dd84a572888a6f90"
   }
  }
 },
 "nbformat": 4,
 "nbformat_minor": 2
}
